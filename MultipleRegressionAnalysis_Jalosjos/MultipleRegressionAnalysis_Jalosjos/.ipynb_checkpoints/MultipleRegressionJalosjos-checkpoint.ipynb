{
 "cells": [
  {
   "cell_type": "code",
   "execution_count": 1,
   "id": "cb034eb8-9d01-4549-aaa8-19ebd5c2e04f",
   "metadata": {},
   "outputs": [],
   "source": [
    "import matplotlib.pyplot as plt\n",
    "import seaborn as sns\n",
    "import pandas as pd\n",
    "import numpy as np\n",
    "from sklearn.linear_model import LinearRegression\n",
    "from sklearn.metrics import r2_score\n",
    "import ipywidgets as widgets\n",
    "from IPython.display import display\n",
    "from scipy.stats import skew, kurtosis, zscore"
   ]
  },
  {
   "cell_type": "code",
   "execution_count": 2,
   "id": "580131f6-99a9-4bb2-9e3b-b475b258f2b8",
   "metadata": {},
   "outputs": [],
   "source": [
    "# Read the data set\n",
    "data = pd.read_csv(\"data/housing_dataset.csv\")"
   ]
  },
  {
   "cell_type": "code",
   "execution_count": 3,
   "id": "5a9a0d5d-814a-4be4-94b8-01cea30c37e4",
   "metadata": {},
   "outputs": [],
   "source": [
    "features = {'house_age', 'mrt_station_distance', 'conv_store', 'price_per_unit_area'}\n",
    "choices = {'house_age', 'mrt_station_distance', 'conv_store'}"
   ]
  },
  {
   "cell_type": "code",
   "execution_count": 4,
   "id": "153d6de1-dccc-44d7-9184-26af37cb111d",
   "metadata": {},
   "outputs": [],
   "source": [
    "data = data.loc[:, data.columns.isin(features)]"
   ]
  },
  {
   "cell_type": "code",
   "execution_count": 5,
   "id": "2540374f-9ec1-4c94-899d-640ff87f14d4",
   "metadata": {},
   "outputs": [],
   "source": [
    "def data_interpretation(data, feature):\n",
    "    # Measures of Central Tendencies\n",
    "    mean = data[feature].mean()\n",
    "    median = data[feature].median()\n",
    "    mode = data[feature].mode()[0]\n",
    "\n",
    "    print(\"\\nCentral Tendency Measures\")\n",
    "    print(f\"Mean: {mean: .4f}\")\n",
    "    print(f\"Median: {median: .4f}\")\n",
    "    print(f\"Mode: {mode: .4f}\")\n",
    "    \n",
    "    # Measures of Dispersion\n",
    "    variance = data[feature].var()\n",
    "    stddev = data[feature].std()\n",
    "    range = data[feature].max() - data[feature].min()\n",
    "    q1 = data[feature].quantile(0.25)\n",
    "    q3 = data[feature].quantile(0.75)\n",
    "    iqr = q3 - q1\n",
    "\n",
    "    print(\"\\nMeasures of Dispersion\")\n",
    "    print(f\"Variance: {variance: .4f}\")\n",
    "    print(f\"Standard Deviation: {stddev: .4f}\")\n",
    "    print(f\"Range: {range: .4f}\")\n",
    "    print(f\"Q1 of Data: {q1: .4f}\")\n",
    "    print(f\"Q3 of Data: {q3: .4f}\")\n",
    "    print(f\"Interquartile Range: {iqr: .4f}\")\n",
    "    \n",
    "    # Skewness\n",
    "    skewness = skew(data[feature])\n",
    "\n",
    "    print(\"\\nSkewness\")\n",
    "    print(f\"Skewness: {skewness: .4f}\")\n",
    "\n",
    "    # Outliers\n",
    "    zscores = np.abs(zscore(data[feature]))\n",
    "    outlier_indices = np.where(zscores > 2.5)[0]\n",
    "\n",
    "    print(\"\\nOutliers\")\n",
    "    print(data[feature][outlier_indices])"
   ]
  },
  {
   "cell_type": "code",
   "execution_count": 6,
   "id": "639bf7fb-7b6b-4418-8c39-1899f4d05e27",
   "metadata": {},
   "outputs": [],
   "source": [
    "def data_display(category):\n",
    "    print(f\"Data of the following: {category}\")\n",
    "    data_interpretation(data, category)"
   ]
  },
  {
   "cell_type": "code",
   "execution_count": 7,
   "id": "ada93589-0877-4cea-9853-7320f85e6ab3",
   "metadata": {},
   "outputs": [],
   "source": [
    "def show_correlation_matrix():\n",
    "    matrix = data.corr()\n",
    "    sns.heatmap(matrix, annot=True, cmap='coolwarm')\n",
    "    plt.show()"
   ]
  },
  {
   "cell_type": "code",
   "execution_count": 8,
   "id": "48c945b8-dde5-4977-b731-65884db2c67a",
   "metadata": {},
   "outputs": [],
   "source": [
    "def linear_regression(input_x, input):\n",
    "    X = data[[input_x]]\n",
    "    Y = data['price_per_unit_area']\n",
    "\n",
    "    model = LinearRegression().fit(X, Y)\n",
    "    predictions = model.predict(X)\n",
    "    \n",
    "    intercept = model.intercept_\n",
    "    coef = model.coef_[0]\n",
    "    r2score = r2_score(Y, predictions)\n",
    "    line = intercept + coef * data[input_x]\n",
    "\n",
    "    # Check if Correlation Value is above or at 50% or 25%\n",
    "    if r2score < 0.25:\n",
    "        print(\"Correlation Value is less than 25%\")\n",
    "        return\n",
    "    if r2score > 0.5:\n",
    "        print(\"Correlation Value is greater than 50%\")\n",
    "\n",
    "    # Create the scatter plot\n",
    "    plt.figure(figsize=(8, 6))\n",
    "    sns.scatterplot(data=data, x=input_x, y='price_per_unit_area')\n",
    "\n",
    "    # Regression line\n",
    "    equation = f'Price per Unit Area = {intercept:.2f} + {coef:.2f} * {input_x}'\n",
    "    plt.plot(data[input_x], line, 'r', label=equation)\n",
    "\n",
    "    print(f\"\\nRegression equation {input_x}:\")\n",
    "    print(equation)\n",
    "    print(f\"\\nR^2 {input_x}: {r2score}\")\n",
    "\n",
    "    # Prediction\n",
    "    input = float(input.replace(',',''))\n",
    "    price_prediction = intercept + coef * input\n",
    "    \n",
    "    print(f\"\\nPredicted Price per Unit Area based on user input: {price_prediction:.2f}\")\n",
    "    \n",
    "    # Scatterplot\n",
    "    plt.legend()\n",
    "    plt.title(f\"Regression of {input_x} on Price per Unit Area\")\n",
    "    plt.grid(True)\n",
    "    plt.show()"
   ]
  },
  {
   "cell_type": "code",
   "execution_count": 9,
   "id": "d6c411f0-38d3-4e42-b75f-7a8654312321",
   "metadata": {},
   "outputs": [],
   "source": [
    "def multiple_linear_regression(house_age_input, mrt_station_distance_input, conv_store_input):\n",
    "    X = data[['house_age', 'mrt_station_distance', 'conv_store']]\n",
    "    Y = data['price_per_unit_area']\n",
    "\n",
    "    model = LinearRegression().fit(X, Y)\n",
    "    predictions = model.predict(X)\n",
    "    \n",
    "    intercept = model.intercept_\n",
    "    coef = model.coef_\n",
    "\n",
    "    equation = f'Price per Unit Area = {intercept:.2f} \\\n",
    "    + {coef[0]:.2f} * house_age \\\n",
    "    + {coef[1]:.2f} * mrt_station_distance \\\n",
    "    + {coef[2]:.2f} * conv_store'\n",
    "\n",
    "    r2score = r2_score(Y, predictions)\n",
    "\n",
    "    house_age_input = float(house_age_input.replace(',',''))\n",
    "    mrt_station_distance_input = float(mrt_station_distance_input.replace(',',''))\n",
    "    conv_store_input = float(conv_store_input.replace(',',''))\n",
    "    input_prediction = intercept + coef[0] * house_age_input + coef[1] * mrt_station_distance_input + coef[2] * conv_store_input\n",
    "    \n",
    "    print(f\"Equation: {equation}\")\n",
    "    print(f\"R^2: {r2score}\")\n",
    "    print(f\"Price Prediction: {input_prediction:.2f}\")\n",
    "    sns.pairplot(data, kind=\"reg\", plot_kws={'line_kws':{'color':'orange'}})"
   ]
  },
  {
   "cell_type": "code",
   "execution_count": 10,
   "id": "4d9e8516-299b-44bc-b489-2fadfe473df1",
   "metadata": {},
   "outputs": [
    {
     "data": {
      "application/vnd.jupyter.widget-view+json": {
       "model_id": "ecf7dd4cf15249108213831049d95d1b",
       "version_major": 2,
       "version_minor": 0
      },
      "text/plain": [
       "interactive(children=(Dropdown(description='category', options=('price_per_unit_area', 'conv_store', 'mrt_stat…"
      ]
     },
     "metadata": {},
     "output_type": "display_data"
    },
    {
     "data": {
      "text/plain": [
       "<function __main__.data_display(category)>"
      ]
     },
     "execution_count": 10,
     "metadata": {},
     "output_type": "execute_result"
    }
   ],
   "source": [
    "# Data Description\n",
    "widgets.interact(data_display, category = features)"
   ]
  },
  {
   "cell_type": "code",
   "execution_count": 11,
   "id": "3ab94308-6528-45ed-b302-4832709b05e7",
   "metadata": {},
   "outputs": [
    {
     "data": {
      "image/png": "[encoded data removed]",
      "text/plain": [
       "<Figure size 640x480 with 2 Axes>"
      ]
     },
     "metadata": {},
     "output_type": "display_data"
    },
    {
     "data": {
      "application/vnd.jupyter.widget-view+json": {
       "model_id": "2a8affb24cd1490097e90a4fabf3cb76",
       "version_major": 2,
       "version_minor": 0
      },
      "text/plain": [
       "interactive(children=(Dropdown(description='input_x', options=('conv_store', 'mrt_station_distance', 'house_ag…"
      ]
     },
     "metadata": {},
     "output_type": "display_data"
    },
    {
     "data": {
      "text/plain": [
       "<function __main__.linear_regression(input_x, input)>"
      ]
     },
     "execution_count": 11,
     "metadata": {},
     "output_type": "execute_result"
    }
   ],
   "source": [
    "# Linear Regression\n",
    "show_correlation_matrix()\n",
    "widgets.interact(linear_regression, input_x = choices, input = '0')"
   ]
  },
  {
   "cell_type": "code",
   "execution_count": 12,
   "id": "c0444a20-e94a-42b8-a308-bc0503bffa40",
   "metadata": {},
   "outputs": [
    {
     "data": {
      "application/vnd.jupyter.widget-view+json": {
       "model_id": "306eea91a81645958dbf93ef3369ff1f",
       "version_major": 2,
       "version_minor": 0
      },
      "text/plain": [
       "interactive(children=(Text(value='0', description='house_age_input'), Text(value='0', description='mrt_station…"
      ]
     },
     "metadata": {},
     "output_type": "display_data"
    },
    {
     "data": {
      "text/plain": [
       "<function __main__.multiple_linear_regression(house_age_input, mrt_station_distance_input, conv_store_input)>"
      ]
     },
     "execution_count": 12,
     "metadata": {},
     "output_type": "execute_result"
    }
   ],
   "source": [
    "# Multiple Linear Regression\n",
    "widgets.interact(multiple_linear_regression, house_age_input = '0', mrt_station_distance_input = '0', conv_store_input = '0')"
   ]
  },
  {
   "cell_type": "code",
   "execution_count": null,
   "id": "7002ab48-3652-40fe-ac8e-7a2f9549e37c",
   "metadata": {},
   "outputs": [],
   "source": []
  },
  {
   "cell_type": "code",
   "execution_count": null,
   "id": "268854e0-172a-45ab-b5b4-992b42376cc9",
   "metadata": {},
   "outputs": [],
   "source": []
  }
 ],
 "metadata": {
  "kernelspec": {
   "display_name": "Python 3 (ipykernel)",
   "language": "python",
   "name": "python3"
  },
  "language_info": {
   "codemirror_mode": {
    "name": "ipython",
    "version": 3
   },
   "file_extension": ".py",
   "mimetype": "text/x-python",
   "name": "python",
   "nbconvert_exporter": "python",
   "pygments_lexer": "ipython3",
   "version": "3.12.2"
  }
 },
 "nbformat": 4,
 "nbformat_minor": 5
}
