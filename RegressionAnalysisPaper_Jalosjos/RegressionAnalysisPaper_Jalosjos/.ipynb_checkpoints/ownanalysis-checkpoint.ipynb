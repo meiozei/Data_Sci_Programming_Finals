{
 "cells": [
  {
   "cell_type": "code",
   "execution_count": 1,
   "id": "7321223e-1b6f-42df-be39-6807082d2852",
   "metadata": {},
   "outputs": [],
   "source": [
    "import pandas as pd\n",
    "import matplotlib.pyplot as plt\n",
    "import seaborn as sns\n",
    "from sklearn.linear_model import LinearRegression\n",
    "import ipywidgets as widgets\n",
    "from IPython.display import display"
   ]
  },
  {
   "cell_type": "code",
   "execution_count": 2,
   "id": "c9ff7641-6495-4cfc-b8c2-bf96d4bac160",
   "metadata": {},
   "outputs": [],
   "source": [
    "df = pd.read_csv('data/World Energy Consumption.csv')"
   ]
  },
  {
   "cell_type": "code",
   "execution_count": 3,
   "id": "be597d35-b165-44a1-8dca-899835b861f1",
   "metadata": {},
   "outputs": [],
   "source": [
    "# Filter the DataFrame to include only ASEAN countries and specified years\n",
    "asean_countries = ['Brunei', 'Cambodia', 'Indonesia', 'Lao People\\'s Democratic Republic',\n",
    "                    'Malaysia', 'Myanmar', 'Philippines', 'Singapore', 'Thailand', 'Vietnam']\n",
    "years = ['2017', '2018', '2019', '2020', '2021', '2022']\n",
    "\n",
    "# Get the selected features\n",
    "selected_features = ['population', 'gdp', 'biofuel_consumption', 'coal_consumption', \n",
    "                     'fossil_fuel_consumption', 'gas_consumption', 'hydro_consumption', \n",
    "                     'oil_consumption', 'wind_consumption', 'other_renewable_consumption', \n",
    "                     'solar_consumption']\n",
    "filtered_df = df[(df['country'].isin(asean_countries)) & (df['year'].isin(years))][selected_features]"
   ]
  },
  {
   "cell_type": "code",
   "execution_count": 4,
   "id": "977adf7a-164f-4e1c-a599-0b67b2070dbf",
   "metadata": {},
   "outputs": [
    {
     "data": {
      "application/vnd.jupyter.widget-view+json": {
       "model_id": "5a88023997f0401987453392e1ea60d3",
       "version_major": 2,
       "version_minor": 0
      },
      "text/plain": [
       "SelectMultiple(description='Features:', index=(0, 1), options=('population', 'gdp', 'biofuel_consumption', 'co…"
      ]
     },
     "metadata": {},
     "output_type": "display_data"
    },
    {
     "data": {
      "application/vnd.jupyter.widget-view+json": {
       "model_id": "3ec120eb972947b1ad83864f6933269d",
       "version_major": 2,
       "version_minor": 0
      },
      "text/plain": [
       "Button(description='Update Plot', style=ButtonStyle())"
      ]
     },
     "metadata": {},
     "output_type": "display_data"
    }
   ],
   "source": [
    "# Create widgets for feature selection\n",
    "feature_selector = widgets.SelectMultiple(\n",
    "    options=filtered_df.columns.tolist(),\n",
    "    value=['population', 'gdp'],\n",
    "    description='Features:',\n",
    "    disabled=False\n",
    ")\n",
    "\n",
    "def update_plot(features):\n",
    "    features = list(features)  # Convert tuple to list\n",
    "    print(\"Selected Features:\", features)  # Check the selected features\n",
    "    if len(features) < 2:\n",
    "        print(\"Select at least 2 features.\")\n",
    "        return\n",
    "    \n",
    "    # Create a new DataFrame with only the selected features\n",
    "    subset_df = filtered_df[features]\n",
    "    print(\"Subset DataFrame Shape:\", subset_df.shape)  # Check the shape of the subset DataFrame\n",
    "    \n",
    "    # Calculate the correlation matrix\n",
    "    correlation_matrix = subset_df.corr()\n",
    "    \n",
    "    # Check if the correlation matrix is empty\n",
    "    if correlation_matrix.empty:\n",
    "        print(\"No correlations found.\")\n",
    "        return\n",
    "    \n",
    "    # Find the pair with the highest correlation\n",
    "    correlation_matrix = correlation_matrix.replace(1, 0)  # Replace diagonal values with 0\n",
    "    correlation_matrix = correlation_matrix.stack().reset_index()\n",
    "    correlation_matrix.columns = ['Feature 1', 'Feature 2', 'Correlation']\n",
    "    feature_pair = correlation_matrix.loc[correlation_matrix['Correlation'].idxmax(), ['Feature 1', 'Feature 2']]\n",
    "    \n",
    "    x_feature, y_feature = feature_pair\n",
    "    \n",
    "    # Perform linear regression\n",
    "    x = subset_df[x_feature].values.reshape(-1, 1)\n",
    "    y = subset_df[y_feature].values.reshape(-1, 1)\n",
    "    model = LinearRegression()\n",
    "    model.fit(x, y)\n",
    "    slope = model.coef_[0][0]\n",
    "    intercept = model.intercept_[0]\n",
    "    \n",
    "    # Plot scatterplot\n",
    "    plt.figure(figsize=(10, 6))\n",
    "    sns.scatterplot(data=subset_df, x=x_feature, y=y_feature)\n",
    "    plt.xlabel(x_feature)\n",
    "    plt.ylabel(y_feature)\n",
    "    plt.title(f\"{y_feature} vs {x_feature}\")\n",
    "    \n",
    "    # Plot regression line\n",
    "    plt.plot(subset_df[x_feature], slope*subset_df[x_feature] + intercept, color='red')\n",
    "    \n",
    "    # Display equation of the line\n",
    "    plt.text(0.1, 0.9, f\"y = {slope:.2f}x + {intercept:.2f}\", transform=plt.gca().transAxes)\n",
    "    \n",
    "    plt.show()\n",
    "\n",
    "# Create a button to update the plot\n",
    "button = widgets.Button(description=\"Update Plot\")\n",
    "\n",
    "# Event handler for button click\n",
    "def on_button_clicked(b):\n",
    "    update_plot(feature_selector.value)\n",
    "\n",
    "button.on_click(on_button_clicked)\n",
    "\n",
    "# Display widgets\n",
    "display(feature_selector)\n",
    "display(button)"
   ]
  },
  {
   "cell_type": "code",
   "execution_count": null,
   "id": "cac43ad5-bcb2-491a-a1a3-d7f61db11527",
   "metadata": {},
   "outputs": [],
   "source": []
  }
 ],
 "metadata": {
  "kernelspec": {
   "display_name": "Python 3 (ipykernel)",
   "language": "python",
   "name": "python3"
  },
  "language_info": {
   "codemirror_mode": {
    "name": "ipython",
    "version": 3
   },
   "file_extension": ".py",
   "mimetype": "text/x-python",
   "name": "python",
   "nbconvert_exporter": "python",
   "pygments_lexer": "ipython3",
   "version": "3.12.2"
  }
 },
 "nbformat": 4,
 "nbformat_minor": 5
}
