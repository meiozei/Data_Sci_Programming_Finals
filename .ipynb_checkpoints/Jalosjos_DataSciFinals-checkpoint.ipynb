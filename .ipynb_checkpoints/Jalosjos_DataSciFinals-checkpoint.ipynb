{
 "cells": [
  {
   "cell_type": "code",
   "execution_count": 1,
   "id": "1415b8c4",
   "metadata": {},
   "outputs": [
    {
     "ename": "ModuleNotFoundError",
     "evalue": "No module named 'seaborn'",
     "output_type": "error",
     "traceback": [
      "\u001b[1;31m---------------------------------------------------------------------------\u001b[0m",
      "\u001b[1;31mModuleNotFoundError\u001b[0m                       Traceback (most recent call last)",
      "Cell \u001b[1;32mIn[1], line 2\u001b[0m\n\u001b[0;32m      1\u001b[0m \u001b[38;5;28;01mimport\u001b[39;00m \u001b[38;5;21;01mmatplotlib\u001b[39;00m\u001b[38;5;21;01m.\u001b[39;00m\u001b[38;5;21;01mpyplot\u001b[39;00m \u001b[38;5;28;01mas\u001b[39;00m \u001b[38;5;21;01mplt\u001b[39;00m\n\u001b[1;32m----> 2\u001b[0m \u001b[38;5;28;01mimport\u001b[39;00m \u001b[38;5;21;01mseaborn\u001b[39;00m \u001b[38;5;28;01mas\u001b[39;00m \u001b[38;5;21;01msns\u001b[39;00m\n\u001b[0;32m      3\u001b[0m \u001b[38;5;28;01mimport\u001b[39;00m \u001b[38;5;21;01mpandas\u001b[39;00m \u001b[38;5;28;01mas\u001b[39;00m \u001b[38;5;21;01mpd\u001b[39;00m\n\u001b[0;32m      4\u001b[0m \u001b[38;5;28;01mimport\u001b[39;00m \u001b[38;5;21;01mnumpy\u001b[39;00m \u001b[38;5;28;01mas\u001b[39;00m \u001b[38;5;21;01mnp\u001b[39;00m\n",
      "\u001b[1;31mModuleNotFoundError\u001b[0m: No module named 'seaborn'"
     ]
    }
   ],
   "source": [
    "import matplotlib.pyplot as plt\n",
    "import seaborn as sns\n",
    "import pandas as pd\n",
    "import numpy as np\n",
    "from sklearn.linear_model import LinearRegression\n",
    "from sklearn.metrics import r2_score\n",
    "import ipywidgets as widgets\n",
    "from IPython.display import display\n",
    "from scipy.stats import skew, kurtosis, zscore"
   ]
  },
  {
   "cell_type": "code",
   "execution_count": null,
   "id": "250d08ec",
   "metadata": {},
   "outputs": [],
   "source": [
    "#Read the dataset\n",
    "data = pd.read_csv(\"data/medical_insurance_dataset.csv\")"
   ]
  },
  {
   "cell_type": "code",
   "execution_count": null,
   "id": "ad7d009a",
   "metadata": {},
   "outputs": [],
   "source": [
    "included = ('age', 'bmi', 'children', 'charges')\n",
    "choices = ('age', 'bmi', 'children')"
   ]
  },
  {
   "cell_type": "code",
   "execution_count": null,
   "id": "75b9a13c",
   "metadata": {},
   "outputs": [],
   "source": [
    "data = data.loc[:, data_columnsisin(included)]"
   ]
  },
  {
   "cell_type": "code",
   "execution_count": null,
   "id": "bca10351",
   "metadata": {},
   "outputs": [],
   "source": [
    "# FIRST PART OF DATA ANALYSIS\n",
    "\n",
    "def data_interpretation(data, feature)\n",
    "\n",
    " mean = data[feature].mean()\n",
    "    median = data[feature].median()\n",
    "    mode = data[feature].mode()[0]\n",
    "\n",
    "    print(\"\\nCentral Tendency Measures\")\n",
    "    print(f\"Mean: {mean: .4f}\")\n",
    "    print(f\"Median: {median: .4f}\")\n",
    "    print(f\"Mode: {mode: .4f}\")\n",
    "    \n",
    "    # Measures of Dispersion\n",
    "    variance = data[feature].var()\n",
    "    stddev = data[feature].std()\n",
    "    range = data[feature].max() - data[feature].min()\n",
    "    q1 = data[feature].quantile(0.25)\n",
    "    q3 = data[feature].quantile(0.75)\n",
    "    iqr = q3 - q1\n",
    "\n",
    "    print(\"\\nMeasures of Dispersion\")\n",
    "    print(f\"Variance: {variance: .4f}\")\n",
    "    print(f\"Standard Deviation: {stddev: .4f}\")\n",
    "    print(f\"Range: {range: .4f}\")\n",
    "    print(f\"Q1 of Data: {q1: .4f}\")\n",
    "    print(f\"Q3 of Data: {q3: .4f}\")\n",
    "    print(f\"Interquartile Range: {iqr: .4f}\")\n",
    "    \n",
    "    # Skewness\n",
    "    skewness = skew(data[feature])\n",
    "\n",
    "    print(\"\\nSkewness\")\n",
    "    print(f\"Skewness: {skewness: .4f}\")\n",
    "\n",
    "    # Outliers\n",
    "    zscores = np.abs(zscore(data[feature]))\n",
    "    outlier_indices = np.where(zscores > 2.5)[0]\n",
    "\n",
    "    print(\"\\nOutliers\")\n",
    "    print(data[feature][outlier_indices])\n",
    "    \n",
    "    # Pivot table \n",
    "\n",
    "    # Age to sex \n",
    "    table = pd.pivot_table(data=data,index=['age'], values=['sex'])"
   ]
  },
  {
   "cell_type": "code",
   "execution_count": 1,
   "id": "4143f614",
   "metadata": {},
   "outputs": [
    {
     "ename": "NameError",
     "evalue": "name 'pd' is not defined",
     "output_type": "error",
     "traceback": [
      "\u001b[1;31m---------------------------------------------------------------------------\u001b[0m",
      "\u001b[1;31mNameError\u001b[0m                                 Traceback (most recent call last)",
      "Cell \u001b[1;32mIn[1], line 4\u001b[0m\n\u001b[0;32m      1\u001b[0m \u001b[38;5;66;03m# Pivot table \u001b[39;00m\n\u001b[0;32m      2\u001b[0m \n\u001b[0;32m      3\u001b[0m \u001b[38;5;66;03m# Age to sex \u001b[39;00m\n\u001b[1;32m----> 4\u001b[0m \u001b[43mpd\u001b[49m\u001b[38;5;241m.\u001b[39mpivot_table(data\u001b[38;5;241m=\u001b[39mdata,index\u001b[38;5;241m=\u001b[39m[\u001b[38;5;124m'\u001b[39m\u001b[38;5;124mage\u001b[39m\u001b[38;5;124m'\u001b[39m], values\u001b[38;5;241m=\u001b[39m[\u001b[38;5;124m'\u001b[39m\u001b[38;5;124msex\u001b[39m\u001b[38;5;124m'\u001b[39m])\n",
      "\u001b[1;31mNameError\u001b[0m: name 'pd' is not defined"
     ]
    }
   ],
   "source": []
  },
  {
   "cell_type": "code",
   "execution_count": null,
   "id": "5c40165b",
   "metadata": {},
   "outputs": [],
   "source": []
  }
 ],
 "metadata": {
  "kernelspec": {
   "display_name": "Python 3 (ipykernel)",
   "language": "python",
   "name": "python3"
  },
  "language_info": {
   "codemirror_mode": {
    "name": "ipython",
    "version": 3
   },
   "file_extension": ".py",
   "mimetype": "text/x-python",
   "name": "python",
   "nbconvert_exporter": "python",
   "pygments_lexer": "ipython3",
   "version": "3.11.4"
  }
 },
 "nbformat": 4,
 "nbformat_minor": 5
}
