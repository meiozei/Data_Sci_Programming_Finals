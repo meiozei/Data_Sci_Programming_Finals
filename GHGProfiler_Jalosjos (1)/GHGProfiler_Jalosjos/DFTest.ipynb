{
 "cells": [
  {
   "cell_type": "code",
   "execution_count": 5,
   "id": "65c20ed7-14ca-438a-9908-4712011bd445",
   "metadata": {},
   "outputs": [],
   "source": [
    "%matplotlib inline\n",
    "\n",
    "import pandas as pd\n",
    "import matplotlib.pyplot as plt\n",
    "import numpy as np\n",
    "from scipy.stats import skew\n",
    "import ipywidgets as widgets\n",
    "from ipywidgets import interact\n",
    "from IPython.display import display"
   ]
  },
  {
   "cell_type": "code",
   "execution_count": 6,
   "id": "75716a24-dc43-459c-9822-fb4ea8c1fe76",
   "metadata": {},
   "outputs": [],
   "source": [
    "df = pd.read_csv('data/greenhouse_gas_inventory_data_fullcsv.csv')"
   ]
  },
  {
   "cell_type": "code",
   "execution_count": 7,
   "id": "e3eb1935-0f0c-4840-9b51-e71cc8e1f177",
   "metadata": {},
   "outputs": [],
   "source": [
    "list_of_countries = df['country_or_area'].unique()\n",
    "list_of_category = df['category'].unique()"
   ]
  },
  {
   "cell_type": "code",
   "execution_count": 8,
   "id": "269a55b4-11ae-4abc-a365-0512250ceebc",
   "metadata": {},
   "outputs": [
    {
     "data": {
      "application/vnd.jupyter.widget-view+json": {
       "model_id": "0e8775bc34b6410ea5ef3f38098789c2",
       "version_major": 2,
       "version_minor": 0
      },
      "text/plain": [
       "Dropdown(description='Country', options=('Australia', 'Austria', 'Belarus', 'Belgium', 'Bulgaria', 'Canada', '…"
      ]
     },
     "metadata": {},
     "output_type": "display_data"
    },
    {
     "data": {
      "application/vnd.jupyter.widget-view+json": {
       "model_id": "71abfaafe00c474c97da30c06f17e585",
       "version_major": 2,
       "version_minor": 0
      },
      "text/plain": [
       "Output()"
      ]
     },
     "metadata": {},
     "output_type": "display_data"
    },
    {
     "data": {
      "application/vnd.jupyter.widget-view+json": {
       "model_id": "119a52bf826346749236b036fdee3b68",
       "version_major": 2,
       "version_minor": 0
      },
      "text/plain": [
       "Dropdown(description='Country', options=('Australia', 'Austria', 'Belarus', 'Belgium', 'Bulgaria', 'Canada', '…"
      ]
     },
     "metadata": {},
     "output_type": "display_data"
    },
    {
     "data": {
      "application/vnd.jupyter.widget-view+json": {
       "model_id": "71abfaafe00c474c97da30c06f17e585",
       "version_major": 2,
       "version_minor": 0
      },
      "text/plain": [
       "Output()"
      ]
     },
     "metadata": {},
     "output_type": "display_data"
    },
    {
     "data": {
      "application/vnd.jupyter.widget-view+json": {
       "model_id": "a0a5f66a1c564b2ca9e701780afafcf8",
       "version_major": 2,
       "version_minor": 0
      },
      "text/plain": [
       "Dropdown(description='Category', options=('carbon_dioxide_co2_emissions_without_land_use_land_use_change_and_f…"
      ]
     },
     "metadata": {},
     "output_type": "display_data"
    },
    {
     "data": {
      "application/vnd.jupyter.widget-view+json": {
       "model_id": "71abfaafe00c474c97da30c06f17e585",
       "version_major": 2,
       "version_minor": 0
      },
      "text/plain": [
       "Output()"
      ]
     },
     "metadata": {},
     "output_type": "display_data"
    },
    {
     "data": {
      "application/vnd.jupyter.widget-view+json": {
       "model_id": "2d8b5ca3989d47fea571ca9a68588c8a",
       "version_major": 2,
       "version_minor": 0
      },
      "text/plain": [
       "Dropdown(description='Category', options=('carbon_dioxide_co2_emissions_without_land_use_land_use_change_and_f…"
      ]
     },
     "metadata": {},
     "output_type": "display_data"
    },
    {
     "data": {
      "application/vnd.jupyter.widget-view+json": {
       "model_id": "71abfaafe00c474c97da30c06f17e585",
       "version_major": 2,
       "version_minor": 0
      },
      "text/plain": [
       "Output()"
      ]
     },
     "metadata": {},
     "output_type": "display_data"
    },
    {
     "data": {
      "application/vnd.jupyter.widget-view+json": {
       "model_id": "38786079d18f45658b760babb45e799f",
       "version_major": 2,
       "version_minor": 0
      },
      "text/plain": [
       "Button(description='Search', style=ButtonStyle())"
      ]
     },
     "metadata": {},
     "output_type": "display_data"
    },
    {
     "data": {
      "application/vnd.jupyter.widget-view+json": {
       "model_id": "71abfaafe00c474c97da30c06f17e585",
       "version_major": 2,
       "version_minor": 0
      },
      "text/plain": [
       "Output()"
      ]
     },
     "metadata": {},
     "output_type": "display_data"
    }
   ],
   "source": [
    "output = widgets.Output()\n",
    "\n",
    "dropdown_country = widgets.Dropdown(options=list_of_countries,description='Country')\n",
    "dropdown_country2= widgets.Dropdown(options=list_of_countries,description='Country')\n",
    "dropdown_category = widgets.Dropdown(options=list_of_category,description='Category')\n",
    "dropdown_category2 = widgets.Dropdown(options=list_of_category,description='Category')\n",
    "button = widgets.Button(description=\"Search\")\n",
    "\n",
    "display(dropdown_country, output)\n",
    "display(dropdown_country2, output)\n",
    "display(dropdown_category, output)\n",
    "display(dropdown_category2, output)\n",
    "display(button, output)\n",
    "\n",
    "def on_button_clicked(b):\n",
    "    \n",
    "    country = dropdown_country.value\n",
    "    category = dropdown_category.value\n",
    "    country2 = dropdown_country2.value\n",
    "    category2 = dropdown_category2.value\n",
    "\n",
    "    #First Country\n",
    "    filtered_df = df[(df[\"country_or_area\"]==country) & (df[\"category\"]==category)]\n",
    "    year = filtered_df['year']\n",
    "    value = filtered_df['value']\n",
    "\n",
    "    display(filtered_df)\n",
    "    \n",
    "    value_mean = np.mean(filtered_df['value'])\n",
    "    value_median = np.median(filtered_df['value'])\n",
    "    \n",
    "    print(' Measure of Central Tendency')\n",
    "    print(f'\\t Mean: {value_mean:.2f}')\n",
    "    print(f'\\t Median: {value_median:.2f}')\n",
    "    \n",
    "    value_std = np.std(filtered_df['value'])\n",
    "    value_var = np.var(filtered_df['value'])\n",
    "    \n",
    "    print(' Measure of Dispersion')\n",
    "    print(f'\\t Standard Deviation: {value_std:.2f}')\n",
    "    print(f'\\t Variance: {value_var:.2f}')\n",
    "\n",
    "    value_coeff_skew = ((value_mean - value_median) * 3 ) / value_std \n",
    "    value_skew = skew(filtered_df['value'].values, axis=0, bias=True)\n",
    "\n",
    "    print(' Measure of Skewness')\n",
    "    print(f'\\t Skewness: {value_skew:.2f}')\n",
    "    print(f'\\t Coefficient of Skewness: {value_coeff_skew:.2f}')\n",
    "\n",
    "    plt.xlabel(\"Year\")\n",
    "    plt.ylabel(\"Greenhouse Gas Inventory Value\")\n",
    "    plt.title(\"Amount of Greenhouse Gas in \" + country + \" with the category \\n\" + category.replace(\"_\", \" \"))\n",
    "    \n",
    "    plt.plot(year,value, color='red')\n",
    "    plt.show()\n",
    "\n",
    "    # Bar Graph\n",
    "    plt.xlabel(\"Year\")\n",
    "    plt.ylabel(\"Greenhouse Gas Inventory Value\")\n",
    "    plt.title(\"Amount of Greenhouse Gas in \" + country + \" with the category \\n\" + category.replace(\"_\", \" \"))\n",
    "    \n",
    "    plt.bar(year,value)\n",
    "    plt.show()\n",
    "\n",
    "    #Second Country\n",
    "    filtered_df = df[(df[\"country_or_area\"]==country2) & (df[\"category\"]==category2)]\n",
    "    year = filtered_df['year']\n",
    "    value = filtered_df['value']\n",
    "\n",
    "    display(filtered_df)\n",
    "    \n",
    "    value_mean = np.mean(filtered_df['value'])\n",
    "    value_median = np.median(filtered_df['value'])\n",
    "    \n",
    "    print(' Measure of Central Tendency')\n",
    "    print(f'\\t Mean: {value_mean:.2f}')\n",
    "    print(f'\\t Median: {value_median:.2f}')\n",
    "    \n",
    "    value_std = np.std(filtered_df['value'])\n",
    "    value_var = np.var(filtered_df['value'])\n",
    "    \n",
    "    print(' Measure of Dispersion')\n",
    "    print(f'\\t Standard Deviation: {value_std:.2f}')\n",
    "    print(f'\\t Variance: {value_var:.2f}')\n",
    "\n",
    "    value_coeff_skew = ((value_mean - value_median) * 3 ) / value_std \n",
    "    value_skew = skew(filtered_df['value'].values, axis=0, bias=True)\n",
    "\n",
    "    print(' Measure of Skewness')\n",
    "    print(f'\\t Skewness: {value_skew:.2f}')\n",
    "    print(f'\\t Coefficient of Skewness: {value_coeff_skew:.2f}')\n",
    "\n",
    "    plt.xlabel(\"Year\")\n",
    "    plt.ylabel(\"Greenhouse Gas Inventory Value\")\n",
    "    plt.title(\"Amount of Greenhouse Gas in \" + country2 + \" with the category \\n\" + category2.replace(\"_\", \" \"))\n",
    "    \n",
    "    plt.plot(year,value, color='red')\n",
    "    plt.show()\n",
    "\n",
    "    # Bar Graph\n",
    "    plt.xlabel(\"Year\")\n",
    "    plt.ylabel(\"Greenhouse Gas Inventory Value\")\n",
    "    plt.title(\"Amount of Greenhouse Gas in \" + country2 + \" with the category \\n\" + category2.replace(\"_\", \" \"))\n",
    "    \n",
    "    plt.bar(year,value)\n",
    "    plt.show()\n",
    "\n",
    "button.on_click(on_button_clicked)"
   ]
  },
  {
   "cell_type": "code",
   "execution_count": null,
   "id": "25672295-d1bc-4fcc-b4a6-3106dc694855",
   "metadata": {},
   "outputs": [],
   "source": []
  }
 ],
 "metadata": {
  "kernelspec": {
   "display_name": "Python 3 (ipykernel)",
   "language": "python",
   "name": "python3"
  },
  "language_info": {
   "codemirror_mode": {
    "name": "ipython",
    "version": 3
   },
   "file_extension": ".py",
   "mimetype": "text/x-python",
   "name": "python",
   "nbconvert_exporter": "python",
   "pygments_lexer": "ipython3",
   "version": "3.12.2"
  }
 },
 "nbformat": 4,
 "nbformat_minor": 5
}
